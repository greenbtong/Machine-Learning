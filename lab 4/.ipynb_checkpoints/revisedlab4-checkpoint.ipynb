{
 "cells": [
  {
   "cell_type": "markdown",
   "metadata": {},
   "source": [
    "### week 4\n",
    "\n",
    "# Basis Functions\n",
    "\n",
    "### written by Neil Lawrence (2015), with some modification by YG (2017)"
   ]
  },
  {
   "cell_type": "markdown",
   "metadata": {},
   "source": [
    "We've seen how we may perform linear regression. Now, we are going to consider how we can perform *non-linear* regression. However, before we get into the details of how to do that we first need to consider in what ways the regression can be non-linear.\n",
    "\n",
    "Multivariate linear regression allows us to build models that take many features into account when making our prediction. In this session we are going to introduce *basis functions*. The term seems complicated, but they are actually based on rather a simple idea. If we are doing a multivariate linear regression, we get extra features that *might* help us predict our required response varible (or target value), $y$. But what if we only have one input value? We can actually artificially generate more input values with basis functions.\n",
    "\n",
    "### Non-linear in the Inputs\n",
    "\n",
    "When we refer to non-linear regression, we are normally referring to whether the regression is non-linear in the input space, or non-linear in the *covariates*. The covariates are the observations that move with the target (or *response*) variable. In our notation we have been using $\\mathbf{x}_i$ to represent a vector of the covariates associated with the $i$-th observation. The coresponding response variable is $y_i$. If a model is non-linear in the inputs, it means that there is a non-linear function between the inputs and the response variable. Linear functions are functions that only involve multiplication and addition, in other words they can be represented through *linear algebra*. Linear regression involves assuming that a function takes the form\n",
    "$$\n",
    "  f(\\mathbf{x}) = \\mathbf{w}^\\top \\mathbf{x}\n",
    "$$\n",
    "where $\\mathbf{w}$ are our regression weights. A very easy way to make the linear regression non-linear is to introduce non-linear functions. When we are introducing non-linear regression these functions are known as *basis functions*."
   ]
  },
  {
   "cell_type": "markdown",
   "metadata": {},
   "source": [
    "### Basis Functions\n",
    "\n",
    "Here's the idea, instead of working directly on the original input space, $\\mathbf{x}$, we build models in a new space, $\\boldsymbol{\\phi}(\\mathbf{x})$ where $\\boldsymbol{\\phi}(\\cdot)$ is a *vector valued* function that is defined on the space $\\mathbf{x}$.\n",
    "\n",
    "Remember, that a vector valued function is just a vector that contains functions instead of values. Here's an example for a one dimensional input space, $x$, being projected to a *quadratic* basis. First we consider each basis function in turn, we can think of the elements of our vector as being indexed so that we have\n",
    "\\begin{align*}\n",
    "  \\phi_1(x) & = 1 \\\\\n",
    "  \\phi_2(x) & = x \\\\\n",
    "  \\phi_3(x) & = x^2\n",
    "\\end{align*}\n",
    "Now we can consider them together by placing them in a vector,\n",
    "$$\n",
    "  \\boldsymbol{\\phi}(x) = \\begin{bmatrix} 1 \\\\ x \\\\ x^2 \\end{bmatrix}\n",
    "$$\n",
    "This is the idea of the vector valued function, we have simply collected the different functions together in the same vector making them notationally easier to deal with in our mathematics.\n",
    "\n",
    "When we consider the vector valued function for each data point, then we place all the data into a matrix. The result is a matrix valued function,\n",
    "$$\n",
    "  \\boldsymbol{\\Phi}(\\mathbf{x}) = \\begin{bmatrix}\n",
    "    1 & x_1 & x_1^2 \\\\\n",
    "    1 & x_2 & x_2^2 \\\\\n",
    "    \\vdots & \\vdots & \\vdots \\\\\n",
    "    1 & x_n & x_n^2\n",
    "  \\end{bmatrix}\n",
    "$$\n",
    "where we are still in the one dimensional input setting so $\\mathbf{x}$ here represents a vector of our inputs with $n$ elements. \n",
    "\n",
    "Let's try constructing such a matrix for a set of inputs. First of all, we create a function that returns the matrix valued function:"
   ]
  },
  {
   "cell_type": "code",
   "execution_count": 3,
   "metadata": {
    "collapsed": false
   },
   "outputs": [],
   "source": [
    "# import numpy for the arrays\n",
    "import numpy as np\n",
    "\n",
    "def quadratic(x):\n",
    "    \"\"\" take in a vector of input values and return the design matrix associated with the basis functions \"\"\"\n",
    "    return np.hstack([np.ones((n, 1)), x, x**2])"
   ]
  },
  {
   "cell_type": "markdown",
   "metadata": {},
   "source": [
    "This function takes in an $n\\times 1$ dimensional vector and returns an $n\\times 3$ dimensional *design matrix* containing the basis functions. We can plot those basis functions against their input as follows:"
   ]
  },
  {
   "cell_type": "code",
   "execution_count": 4,
   "metadata": {
    "collapsed": false
   },
   "outputs": [
    {
     "data": {
      "text/plain": [
       "<matplotlib.text.Text at 0x782e160>"
      ]
     },
     "execution_count": 4,
     "metadata": {},
     "output_type": "execute_result"
    },
    {
     "data": {
      "image/png": "[encoded data removed]",
      "text/plain": [
       "<matplotlib.figure.Figure at 0x765fd68>"
      ]
     },
     "metadata": {},
     "output_type": "display_data"
    }
   ],
   "source": [
    "# ensure plots appear in the notebook\n",
    "%matplotlib inline\n",
    "import pylab as plt\n",
    "\n",
    "# first let's generate some inputs\n",
    "n = 100\n",
    "x = np.zeros((n, 1))  # create a data set of zeros\n",
    "x[:, 0] = np.linspace(-1, 1, n)  # fill it with values between -1 and 1\n",
    "\n",
    "Phi = quadratic(x)\n",
    "\n",
    "fig, ax = plt.subplots(figsize=(12,4))\n",
    "ax.set_ylim([-1.2, 1.2])  # set y limits to ensure basis functions show\n",
    "ax.plot(x[:,0], Phi[:, 0], 'r-', label = '$\\phi = 1$')\n",
    "ax.plot(x[:,0], Phi[:, 1], 'g-', label = '$\\phi = x$')\n",
    "ax.plot(x[:,0], Phi[:, 2], 'b-', label = '$\\phi = x^2$')\n",
    "ax.legend(loc='lower right')\n",
    "ax.set_title('Quadratic Basis Functions')"
   ]
  },
  {
   "cell_type": "markdown",
   "metadata": {},
   "source": [
    "The actual function we observe is then made up of a sum of these functions. This is the reason for the name basis. The term *basis* means 'the underlying support or foundation for an idea, argument, or process', and in this context they form the underlying support for our prediction function. Our prediction function can only be composed of a weighted linear sum of our basis functions."
   ]
  },
  {
   "cell_type": "markdown",
   "metadata": {},
   "source": [
    "### Different Basis\n",
    "\n",
    "Our choice of basis can be made based on what our beliefs about what is appropriate for the data. For example, the polynomial basis extends the quadratic basis to aribrary degree, so we might define the $j$-th basis function associated with the model as\n",
    "$$\n",
    "  \\phi_j(x_i) = x_i^j\n",
    "$$\n",
    "which can be implemented as a function in code as follows:"
   ]
  },
  {
   "cell_type": "code",
   "execution_count": 5,
   "metadata": {
    "collapsed": false
   },
   "outputs": [],
   "source": [
    "def polynomial(x, num_basis=4, data_limits=[-1., 1.]):\n",
    "    Phi = np.zeros((x.shape[0], num_basis))\n",
    "    for i in range(num_basis):\n",
    "        Phi[:, i:i+1] = x**i\n",
    "    return Phi"
   ]
  },
  {
   "cell_type": "markdown",
   "metadata": {},
   "source": [
    "To aid in understanding how a basis works, we've provided you with a small interactive tool for exploring this polynomial basis. The tool can be summoned with the following command.\n",
    "\n",
    "**(note) unfortunately this tool is not working properly. (YG)**"
   ]
  },
  {
   "cell_type": "code",
   "execution_count": 6,
   "metadata": {
    "collapsed": false
   },
   "outputs": [
    {
     "data": {
      "image/png": "[encoded data removed]",
      "text/plain": [
       "<matplotlib.figure.Figure at 0x72364e0>"
      ]
     },
     "metadata": {},
     "output_type": "display_data"
    }
   ],
   "source": [
    "import pods\n",
    "pods.notebook.display_prediction(basis=polynomial, num_basis=4)"
   ]
  },
  {
   "cell_type": "markdown",
   "metadata": {},
   "source": [
    "### Radial Basis Functions\n",
    "\n",
    "Another type of basis is sometimes known as a 'radial basis' because the effect basis functions are constructed on 'centres' and the effect of each basis function decreases as the radial distance from each centre increases."
   ]
  },
  {
   "cell_type": "code",
   "execution_count": 7,
   "metadata": {
    "collapsed": false
   },
   "outputs": [],
   "source": [
    "# radial basis\n",
    "def radial(x, num_basis=4, data_limits=[-1., 1.]):\n",
    "    if num_basis>1:\n",
    "        centres=np.linspace(data_limits[0], data_limits[1], num_basis)\n",
    "        width = (centres[1]-centres[0])/2.\n",
    "    else:\n",
    "        centres = np.asarray([data_limits[0]/2. + data_limits[1]/2.])\n",
    "        width = (data_limits[1]-data_limits[0])/2.\n",
    "\n",
    "    Phi = np.zeros((x.shape[0], num_basis))\n",
    "    for i in range(num_basis):\n",
    "        Phi[:, i:i+1] = np.exp(-0.5*((x-centres[i])/width)**2)\n",
    "    return Phi"
   ]
  },
  {
   "cell_type": "code",
   "execution_count": 8,
   "metadata": {
    "collapsed": false
   },
   "outputs": [
    {
     "data": {
      "image/png": "[encoded data removed]",
      "text/plain": [
       "<matplotlib.figure.Figure at 0xa656a90>"
      ]
     },
     "metadata": {},
     "output_type": "display_data"
    }
   ],
   "source": [
    "pods.notebook.display_prediction(basis=radial, num_basis=4)"
   ]
  },
  {
   "cell_type": "markdown",
   "metadata": {},
   "source": [
    "### Fourier Basis\n",
    "\n",
    "Fourier noticed that any *stationary* function could be converted to a sum of sines and cosines. A Fourier basis is a linear weighted sum of these functions."
   ]
  },
  {
   "cell_type": "code",
   "execution_count": 9,
   "metadata": {
    "collapsed": false
   },
   "outputs": [],
   "source": [
    "# fourier basis\n",
    "def fourier(x, num_basis=4, data_limits=[-1., 1.]):\n",
    "    tau = 2*np.pi\n",
    "    span = float(data_limits[1]-data_limits[0])\n",
    "    Phi = np.zeros((x.shape[0], num_basis))\n",
    "    for i in range(num_basis):\n",
    "        count = float((i+1)//2)\n",
    "        frequency = count/span\n",
    "        if i % 2:\n",
    "            Phi[:, i:i+1] = np.sin(tau*frequency*x)\n",
    "        else:\n",
    "            Phi[:, i:i+1] = np.cos(tau*frequency*x)\n",
    "    return Phi"
   ]
  },
  {
   "cell_type": "markdown",
   "metadata": {},
   "source": [
    "In this code, basis functions with an *odd* index are sine and basis functions with an *even* index are cosine. The first basis function (index 0, so cosine) has a frequency of 0 and then frequencies increase to 1, 2, 3, 4 etc every time a sine and cosine are included."
   ]
  },
  {
   "cell_type": "code",
   "execution_count": 10,
   "metadata": {
    "collapsed": false
   },
   "outputs": [
    {
     "data": {
      "image/png": "[encoded data removed]",
      "text/plain": [
       "<matplotlib.figure.Figure at 0xa982710>"
      ]
     },
     "metadata": {},
     "output_type": "display_data"
    }
   ],
   "source": [
    "pods.notebook.display_prediction(basis=fourier, num_basis=4)"
   ]
  },
  {
   "cell_type": "markdown",
   "metadata": {},
   "source": [
    "### Fitting to Data\n",
    "\n",
    "Now we are going to consider how these basis functions can be adjusted to fit to a particular data set. We will return to the olympic marathon data from last time. First we will scale the output of the data to be zero mean and variance 1."
   ]
  },
  {
   "cell_type": "code",
   "execution_count": 54,
   "metadata": {
    "collapsed": false
   },
   "outputs": [],
   "source": [
    "data = pods.datasets.olympic_marathon_men()\n",
    "y = data['Y']\n",
    "x = data['X']\n",
    "y -= y.mean()\n",
    "y /= y.std()"
   ]
  },
  {
   "cell_type": "markdown",
   "metadata": {},
   "source": [
    "### Assignment Question 1\n",
    "\n",
    "Now we are going to redefine our polynomial (presented below). Have a careful look at the operations we perform on `x` to create `z`. We use `z` in the polynomial computation. What are we doing to the inputs? Why do you think we are changing `x` in this manner?\n",
    "\n",
    "*5 marks*"
   ]
  },
  {
   "cell_type": "markdown",
   "metadata": {},
   "source": [
    "#### Question 1 Answer\n",
    "\n",
    "z is the conditional mean. Using this polynomial regresion below, we can fit a nonlinear relationship between the value x and the mean z. The polynomial function below acts like a second normailzation. The values in x are all normalize to a single similarity, in this case it is the mean of the data points.\n"
   ]
  },
  {
   "cell_type": "code",
   "execution_count": 55,
   "metadata": {
    "collapsed": true
   },
   "outputs": [],
   "source": [
    "# polynomial basis (redefined)\n",
    "def polynomial(x, num_basis=4, data_limits=[-1., 1.]):\n",
    "    centre = data_limits[0]/2. + data_limits[1]/2.\n",
    "    span = data_limits[1] - data_limits[0]\n",
    "    z = x - centre\n",
    "    z = 2*z/span\n",
    "    Phi = np.zeros((x.shape[0], num_basis))\n",
    "    for i in range(num_basis):\n",
    "        Phi[:, i:i+1] = z**i\n",
    "    return Phi"
   ]
  },
  {
   "cell_type": "markdown",
   "metadata": {},
   "source": [
    "In the following we compare three basis functions for fitting the olympic data."
   ]
  },
  {
   "cell_type": "code",
   "execution_count": 56,
   "metadata": {
    "collapsed": false
   },
   "outputs": [
    {
     "data": {
      "image/png": "[encoded data removed]",
      "text/plain": [
       "<matplotlib.figure.Figure at 0xe3ac438>"
      ]
     },
     "metadata": {},
     "output_type": "display_data"
    }
   ],
   "source": [
    "fig, ax = plt.subplots(figsize=(12,4))\n",
    "ax.plot(x, y, 'rx')\n",
    "pods.notebook.display_prediction(basis=dict(radial=radial, polynomial=polynomial, fourier=fourier), \n",
    "                                 data_limits=(1880, 2020),\n",
    "                                 fig=fig, ax=ax,\n",
    "                                 offset=0.,\n",
    "                                 wlim = (-4., 4., 0.001),\n",
    "                                 num_basis=4)"
   ]
  },
  {
   "cell_type": "markdown",
   "metadata": {},
   "source": [
    "### Fitting by Hand\n",
    "\n",
    "Using the tool above, we try to find the good fit to the data for each basis function:\n",
    "\n",
    "(a) polynomial basis\n",
    "\n",
    "(b) radial basis\n",
    "\n",
    "(c) fourier basis\n",
    "\n",
    "The code box below is creating a new vector of parameters for each basis.  They will be used in **Assignment Question 3** below."
   ]
  },
  {
   "cell_type": "code",
   "execution_count": 57,
   "metadata": {
    "collapsed": false
   },
   "outputs": [],
   "source": [
    "# fitting by hand\n",
    "\n",
    "# (a) polynomial\n",
    "\n",
    "w_0 = -0.49\n",
    "w_1 = -0.81\n",
    "w_2 =  1.74\n",
    "w_3 = -1.68\n",
    "\n",
    "w_polynomial = np.asarray([[w_0], [w_1], [w_2], [w_3]])\n",
    "\n",
    "# (b) radial\n",
    "\n",
    "w_0 =  2.79\n",
    "w_1 = -0.12\n",
    "w_2 = -0.57\n",
    "w_3 = -0.81\n",
    "\n",
    "w_rbf = np.asarray([[w_0], [w_1], [w_2], [w_3]])\n",
    "\n",
    "# (c) fourier\n",
    "\n",
    "w_0 = -0.06\n",
    "w_1 = -0.84\n",
    "w_2 = -0.38\n",
    "w_3 =  0.49\n",
    "\n",
    "w_fourier = np.asarray([[w_0], [w_1], [w_2], [w_3]])"
   ]
  },
  {
   "cell_type": "markdown",
   "metadata": {},
   "source": [
    "We like to make use of *design* matrices for our data. Design matrices, as you will recall, involve placing the data points into rows of the matrix and data features into the columns of the matrix. By convention, we are referincing a vector with a bold lower case letter, and a matrix with a bold upper case letter. The design matrix is therefore given by\n",
    "$$\n",
    "  \\boldsymbol{\\Phi} = \\begin{bmatrix} 1 & \\mathbf{x} & \\mathbf{x}^2 \\end{bmatrix}\n",
    "$$\n",
    "\n",
    "### Non-linear in the Inputs but Linear in the Parameters\n",
    "\n",
    "One rather nice aspect of our model is that whilst it is non-linear in the inputs, it is still linear in the parameters $\\mathbf{w}$. This means that our derivations from before continue to operate to allow us to work with this model. In fact, although this is a non-linear regression it is still known as a *linear model* because it is linear in the parameters,\n",
    "$$\n",
    "  f(\\mathbf{x}) = \\mathbf{w}^\\top \\boldsymbol{\\phi}(\\mathbf{x})\n",
    "$$\n",
    "where the vector $\\mathbf{x}$ appears inside the basis functions, making our result, $f(\\mathbf{x})$ non-linear in the inputs, but $\\mathbf{w}$ appears outside our basis function, making our result *linear* in the parameters. In practice, our basis function itself may contain its own set of parameters,\n",
    "$$\n",
    "  f(\\mathbf{x}) = \\mathbf{w}^\\top \\boldsymbol{\\phi}(\\mathbf{x}; \\boldsymbol{\\theta})\n",
    "$$\n",
    "that we've denoted here as $\\boldsymbol{\\theta}$. If these parameters appear inside the basis function then our model is *non-linear* in these parameters."
   ]
  },
  {
   "cell_type": "markdown",
   "metadata": {},
   "source": [
    "### Assignment Question 2\n",
    "\n",
    "For the following prediction functions state whether the model is linear in the inputs, the parameters or both.\n",
    "\n",
    "(a) $f(x) = w_1 x_1 + w_2$\n",
    "\n",
    "(b) $f(x) = w_1\\exp(x_1) + w_2 x_2 + w_3$\n",
    "\n",
    "(c) $f(x) = \\log(x_1^{w_1}) + w_2 x_2^2 + w_3$\n",
    "\n",
    "(d) $f(x) = \\exp(-\\sum_i(x_i - w_i)^2)$\n",
    "\n",
    "(e) $f(x) = \\exp(-\\mathbf{w}^\\top \\mathbf{x})$\n",
    "\n",
    "*5 marks*"
   ]
  },
  {
   "cell_type": "markdown",
   "metadata": {},
   "source": [
    "#### Question 2 Answer\n",
    "\n",
    "a) inputs: linear,          parameters: linear\n",
    "\n",
    "b) inputs: non-linear,      parameters: linear\n",
    "\n",
    "c) inputs: non-linear,      parameters: linear\n",
    "\n",
    "d) inputs: non-linear,      parameters: non-linear\n",
    "\n",
    "e) inputs: non-linear,      parameters: non-linear\n",
    "   "
   ]
  },
  {
   "cell_type": "markdown",
   "metadata": {},
   "source": [
    "### Fitting the Model Yourself\n",
    "\n",
    "You now have everything you need to fit a non-linear (in the inputs) basis function model to the marathon data."
   ]
  },
  {
   "cell_type": "markdown",
   "metadata": {},
   "source": [
    "### Assignment Question 3\n",
    "\n",
    "Choose one of the basis functions you have explored above. Compute the design matrix on the covariates (or input data), `x`. Use the design matrix and the response variable `y` to solve the following linear system for the model parameters `w`.\n",
    "$$\n",
    "  \\boldsymbol{\\Phi}^\\top \\boldsymbol{\\Phi} \\mathbf{w} = \\boldsymbol{\\Phi}^\\top \\mathbf{y}\n",
    "$$\n",
    "Compute the corresponding error on the training data. How does it compare to the error by the hand fitting above? Plot the form of your prediction function from the least squares estimate alongside the form of the prediction function by hand fitting.\n",
    "\n",
    "*20 marks*"
   ]
  },
  {
   "cell_type": "code",
   "execution_count": 58,
   "metadata": {
    "collapsed": false
   },
   "outputs": [],
   "source": [
    "# Question 3 Answer Code\n",
    "\n",
    "# polynomial basis (redefined)\n",
    "def polynomial(x, num_basis=4, data_limits=[-1., 1.]):\n",
    "    #print(x, len(x))\n",
    "    centre = data_limits[0]/2. + data_limits[1]/2.\n",
    "    span = data_limits[1] - data_limits[0]\n",
    "    z = x - centre\n",
    "    z = 2*z/span\n",
    "    Phi = np.zeros((x.shape[0], num_basis))\n",
    "    for i in range(num_basis):\n",
    "        Phi[:, i:i+1] = z**i\n",
    "    return Phi"
   ]
  },
  {
   "cell_type": "code",
   "execution_count": 93,
   "metadata": {
    "collapsed": false
   },
   "outputs": [
    {
     "name": "stdout",
     "output_type": "stream",
     "text": [
      "least squares estimate:\n",
      "[[-0.2637179 ]\n",
      " [-1.43091065]\n",
      " [ 1.66372626]\n",
      " [-0.96870096]]\n"
     ]
    }
   ],
   "source": [
    "# fitting by hand\n",
    "\n",
    "# (a) polynomial\n",
    "\n",
    "w_0 = -0.49\n",
    "w_1 = -0.81\n",
    "w_2 =  1.74\n",
    "w_3 = -1.68\n",
    "\n",
    "w_polynomial = np.asarray([[w_0], [w_1], [w_2], [w_3]])\n",
    "\n",
    "\n",
    "# least squares estimate\n",
    "\n",
    "X = polynomial(x, num_basis=4, data_limits = (1880,2020))\n",
    "w = np.linalg.solve(np.dot(X.T, X), np.dot(X.T, y))\n",
    "print(\"least squares estimate:\")\n",
    "print(w) "
   ]
  },
  {
   "cell_type": "code",
   "execution_count": 90,
   "metadata": {
    "collapsed": false
   },
   "outputs": [
    {
     "data": {
      "image/png": "[encoded data removed]",
      "text/plain": [
       "<matplotlib.figure.Figure at 0x113fa358>"
      ]
     },
     "metadata": {},
     "output_type": "display_data"
    }
   ],
   "source": [
    "fig, ax = plt.subplots(figsize=(12,4))\n",
    "ax.plot(x, y, 'rx')\n",
    "\n",
    "#  least squares estimate (blue)\n",
    "pods.notebook.display_prediction(basis=polynomial, \n",
    "                                 data_limits=(1880, 2020),\n",
    "                                 fig=fig, ax=ax,\n",
    "                                 offset=0.,\n",
    "                                 wlim = (-4., 4., 0.001),\n",
    "                                 num_basis=4)\n",
    "\n",
    "\n",
    "# prediction function by hand fitting (green)\n",
    "pods.notebook.display_prediction(basis=polynomial, \n",
    "                                 data_limits=(1880, 2020),\n",
    "                                 fig=fig, ax=ax,\n",
    "                                 offset=0.,\n",
    "                                 wlim = (-4., 4., 0.001),\n",
    "                                 num_basis=4)\n"
   ]
  },
  {
   "cell_type": "code",
   "execution_count": 120,
   "metadata": {
    "collapsed": false
   },
   "outputs": [
    {
     "name": "stdout",
     "output_type": "stream",
     "text": [
      "('Least squares estimate error: ', array([ 6.32403021]))\n",
      "('Prediction function by hand fitting error: ', array([ 13.86233251]))\n",
      "The least squares estimate has a lower error function indicating that it will produce a more accurate best fit line compared to making the best fit line by hand.\n"
     ]
    }
   ],
   "source": [
    "# E(w) = sum((y - w_0 - w_1 x - w_2 x^2 - w_3 x^3)^2)    \n",
    "def objective_function(w0, w1, w2, w3, x, y):\n",
    "    obj = 0.\n",
    "    for i in range(len(x)):\n",
    "        prediction = -w0 - w1 * x[i][1] - w2 * x[i][2]**2 - w3 * x[i][3]**3 # w_0 - w_1 x - w_2 x^2 - w_3 x^3\n",
    "        diff = y[i] + prediction  # y - prediction\n",
    "        obj += diff*diff # diff^2\n",
    "    return obj\n",
    "\n",
    "#  least squares estimate\n",
    "obj_estimate = objective_function(w[0], w[1], w[2], w[3], X, y)\n",
    "print(\"Least squares estimate error: \", obj_estimate)\n",
    "\n",
    "# prediction function by hand fitting\n",
    "obj_hand = objective_function(w_polynomial[0], w_polynomial[1], w_polynomial[2], w_polynomial[3], X, y)\n",
    "print(\"Prediction function by hand fitting error: \", obj_hand)\n",
    "\n",
    "print(\"The least squares estimate has a lower error function indicating that it will produce a more accurate best fit line compared to making the best fit line by hand.\")"
   ]
  },
  {
   "cell_type": "markdown",
   "metadata": {},
   "source": [
    "### Lecture on Basis Functions by Neil Lawrence"
   ]
  },
  {
   "cell_type": "code",
   "execution_count": 57,
   "metadata": {
    "collapsed": false
   },
   "outputs": [
    {
     "data": {
      "image/jpeg": "[encoded data removed]",
      "text/html": [
       "\n",
       "        <iframe\n",
       "            width=\"400\"\n",
       "            height=\"300\"\n",
       "            src=\"https://www.youtube.com/embed/PoNbOnUnOao\"\n",
       "            frameborder=\"0\"\n",
       "            allowfullscreen\n",
       "        ></iframe>\n",
       "        "
      ],
      "text/plain": [
       "<IPython.lib.display.YouTubeVideo at 0xef88eb8>"
      ]
     },
     "execution_count": 57,
     "metadata": {},
     "output_type": "execute_result"
    }
   ],
   "source": [
    "from IPython.display import YouTubeVideo\n",
    "YouTubeVideo('PoNbOnUnOao')"
   ]
  },
  {
   "cell_type": "code",
   "execution_count": null,
   "metadata": {
    "collapsed": true
   },
   "outputs": [],
   "source": []
  }
 ],
 "metadata": {
  "kernelspec": {
   "display_name": "Python [Root]",
   "language": "python",
   "name": "Python [Root]"
  },
  "language_info": {
   "codemirror_mode": {
    "name": "ipython",
    "version": 2
   },
   "file_extension": ".py",
   "mimetype": "text/x-python",
   "name": "python",
   "nbconvert_exporter": "python",
   "pygments_lexer": "ipython2",
   "version": "2.7.12"
  }
 },
 "nbformat": 4,
 "nbformat_minor": 0
}
