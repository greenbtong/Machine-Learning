{
 "cells": [
  {
   "cell_type": "markdown",
   "metadata": {},
   "source": [
    "### 'Assignment Question 4' states that ...\n",
    "\n",
    "Now we are going to build a more sophisticated form of basis function, one that can accept arguments to its inputs (similar to those we used in the last week). Here we will start with a polynomial basis:\n",
    "\n",
    "```python\n",
    "def polynomial(x, degree, loc, scale):\n",
    "    degrees = np.arange(degree+1)\n",
    "    return ((x-loc)/scale)**degrees\n",
    "```\n",
    "\n",
    "The basis as we've defined it has three arguments as well as the input. The degree of the polynomial, the scale of the polynomial and the offset. These arguments need to be passed to the basis functions whenever they are called. Modify your code to pass these additional arguments to the python function for creating the basis. Do this for each of your functions `predict`, `fit` and `objective`. You will find `*args` (or `**kwargs`) useful.\n",
    "\n",
    "Write code that tries to fit different models to the data with polynomial basis. Use a maximum degree for your basis from 0 to 17.\n",
    "... [snip]"
   ]
  },
  {
   "cell_type": "markdown",
   "metadata": {},
   "source": [
    "### How to Use  `**kwargs`\n",
    "\n",
    "This short note outlines hwo to use `**kwargs` to achieve the task for the above question. It does not mean that use of `**kwargs` is the only way. But if you are interested to try it, please read on.\n",
    "\n",
    "If you do some quick search, there are many hits for usage of `*args` and `**kwargs`. The following example may be useful to find how `**kwargs` can be used:"
   ]
  },
  {
   "cell_type": "code",
   "execution_count": 7,
   "metadata": {
    "collapsed": false
   },
   "outputs": [
    {
     "name": "stdout",
     "output_type": "stream",
     "text": [
      "function to use:  <function polynomial at 0x0000028D23728D90>\n",
      "degree for basis: 1\n",
      "centre location:  2000\n",
      "scaling factor:   100\n"
     ]
    }
   ],
   "source": [
    "import numpy as np\n",
    "import pods\n",
    "\n",
    "data = pods.datasets.olympic_marathon_men()\n",
    "x = data['X']\n",
    "y = data['Y']\n",
    "\n",
    "def show_basis(function, degree, loc, scale):\n",
    "    print('function to use: ', function)\n",
    "    print('degree for basis:', degree)\n",
    "    print('centre location: ', loc)\n",
    "    print('scaling factor:  ', scale)\n",
    "\n",
    "def polynomial(x, degree, loc, scale):\n",
    "    degrees = np.arange(degree+1)\n",
    "    return ((x-loc)/scale)**degrees\n",
    "\n",
    "degree = 1\n",
    "basis={'function':polynomial, 'degree':degree, 'loc':2000, 'scale':100}\n",
    "show_basis(**basis)"
   ]
  },
  {
   "cell_type": "markdown",
   "metadata": {},
   "source": [
    "In the above, `show_basis` is defined for the purpose of illustrating the use of `**kwargs`.\n",
    "\n",
    "Using the defined function of `polynomial`, you can build `Phi` from the polynomial basis.  See below how the design matrix `Phi` looks like when `degree` is set as `2`:"
   ]
  },
  {
   "cell_type": "code",
   "execution_count": 11,
   "metadata": {
    "collapsed": false,
    "scrolled": true
   },
   "outputs": [
    {
     "data": {
      "text/plain": [
       "array([[ 1.    , -1.04  ,  1.0816],\n",
       "       [ 1.    , -1.    ,  1.    ],\n",
       "       [ 1.    , -0.96  ,  0.9216],\n",
       "       [ 1.    , -0.92  ,  0.8464],\n",
       "       [ 1.    , -0.88  ,  0.7744],\n",
       "       [ 1.    , -0.8   ,  0.64  ],\n",
       "       [ 1.    , -0.76  ,  0.5776],\n",
       "       [ 1.    , -0.72  ,  0.5184],\n",
       "       [ 1.    , -0.68  ,  0.4624],\n",
       "       [ 1.    , -0.64  ,  0.4096],\n",
       "       [ 1.    , -0.52  ,  0.2704],\n",
       "       [ 1.    , -0.48  ,  0.2304],\n",
       "       [ 1.    , -0.44  ,  0.1936],\n",
       "       [ 1.    , -0.4   ,  0.16  ],\n",
       "       [ 1.    , -0.36  ,  0.1296],\n",
       "       [ 1.    , -0.32  ,  0.1024],\n",
       "       [ 1.    , -0.28  ,  0.0784],\n",
       "       [ 1.    , -0.24  ,  0.0576],\n",
       "       [ 1.    , -0.2   ,  0.04  ],\n",
       "       [ 1.    , -0.16  ,  0.0256],\n",
       "       [ 1.    , -0.12  ,  0.0144],\n",
       "       [ 1.    , -0.08  ,  0.0064],\n",
       "       [ 1.    , -0.04  ,  0.0016],\n",
       "       [ 1.    ,  0.    ,  0.    ],\n",
       "       [ 1.    ,  0.04  ,  0.0016],\n",
       "       [ 1.    ,  0.08  ,  0.0064],\n",
       "       [ 1.    ,  0.12  ,  0.0144]])"
      ]
     },
     "execution_count": 11,
     "metadata": {},
     "output_type": "execute_result"
    }
   ],
   "source": [
    "degree = 2\n",
    "basis={'function':polynomial, 'degree':degree, 'loc':2000., 'scale':100.}\n",
    "Phi = basis['function'](x, basis['degree'], basis['loc'], basis['scale'])\n",
    "Phi"
   ]
  },
  {
   "cell_type": "markdown",
   "metadata": {},
   "source": [
    "Using `**kwargs`, you can pass various arguments to the basis function, although the assignment question 4 is only asking you to test the varying value of `degree` between 0 and 17.\n",
    "\n",
    "You can now define `prediction` function as follows:"
   ]
  },
  {
   "cell_type": "code",
   "execution_count": 10,
   "metadata": {
    "collapsed": true
   },
   "outputs": [],
   "source": [
    "def prediction(w, x, basis={'function':polynomial, 'degree':1, 'loc':2000, 'scale':100}):\n",
    "    Phi = basis['function'](x, basis['degree'], basis['loc'], basis['scale'])    \n",
    "    return np.dot(Phi,w)"
   ]
  },
  {
   "cell_type": "markdown",
   "metadata": {},
   "source": [
    "In the definition above, a design matrix `Phi` of the basis function values given the input vector `x` is created using polynomial basis functions, then a dot product with `w` is calculated and returned.\n",
    "\n",
    "Other definitions such as `objective` and `fit` can be written in the similar way."
   ]
  }
 ],
 "metadata": {
  "anaconda-cloud": {},
  "kernelspec": {
   "display_name": "Python [Root]",
   "language": "python",
   "name": "Python [Root]"
  },
  "language_info": {
   "codemirror_mode": {
    "name": "ipython",
    "version": 2
   },
   "file_extension": ".py",
   "mimetype": "text/x-python",
   "name": "python",
   "nbconvert_exporter": "python",
   "pygments_lexer": "ipython2",
   "version": "2.7.12"
  }
 },
 "nbformat": 4,
 "nbformat_minor": 0
}
