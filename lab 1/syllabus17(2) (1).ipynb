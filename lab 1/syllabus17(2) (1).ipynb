{
 "cells": [
  {
   "cell_type": "markdown",
   "metadata": {
    "slideshow": {
     "slide_type": "slide"
    }
   },
   "source": [
    "<div align=\"right\">\n",
    "**autumn 2017 syllabus**\n",
    "</div>\n",
    "<br>\n",
    "<br>\n",
    "\n",
    "### COM4509/6509\n",
    "\n",
    "## Machine Learning and Adaptive Intelligence"
   ]
  },
  {
   "cell_type": "markdown",
   "metadata": {
    "slideshow": {
     "slide_type": "slide"
    }
   },
   "source": [
    "### Hours and Places\n",
    "\n",
    "**lectures**: Mondays 16:00 - 16:50\n",
    "- week 1-2,4-10: Diamond LT07\n",
    "- week 3: Diamond LT03\n",
    "\n",
    "**lab classes** and **MCQ sessions**: Tuesdays 11:00 - 12:50\n",
    "- week 1-7,11: Diamond CR1\n",
    "- week 8-9: Alfred Denny A04\n",
    "- week 10: ???"
   ]
  },
  {
   "cell_type": "markdown",
   "metadata": {
    "slideshow": {
     "slide_type": "slide"
    }
   },
   "source": [
    "### Staff\n",
    "\n",
    "Yoshi Gotoh (y.gotoh AT sheffield.ac.uk)\n",
    "<br>\n",
    "<br>\n",
    "\n",
    "### Acknowledgement\n",
    "\n",
    "Most of the materials, particularly lab classes, had been prepared by **Neil Lawrence** in previous years."
   ]
  },
  {
   "cell_type": "markdown",
   "metadata": {
    "slideshow": {
     "slide_type": "slide"
    }
   },
   "source": [
    "### Schedule\n",
    "\n",
    "- week 1: probability and other preliminaries\n",
    "- week 2: objective functions\n",
    "- week 3: linear regression\n",
    "- week 4: basis functions\n",
    "- week 5: generalisation\n",
    "- week 6: Bayesian regression\n",
    "- week 7: unsupervised learning\n",
    "- week 8: EM algorithm and maximum entropy modelling\n",
    "- week 9: naive Bayes\n",
    "- week 10: logistic regression and generalized linear models"
   ]
  },
  {
   "cell_type": "markdown",
   "metadata": {
    "slideshow": {
     "slide_type": "slide"
    }
   },
   "source": [
    "### Assessments\n",
    "\n",
    "- weekly lab classes: 35%\n",
    "- MCQs (multiple chonce questions): 15%\n",
    "- formal examinations: 50%"
   ]
  },
  {
   "cell_type": "markdown",
   "metadata": {
    "slideshow": {
     "slide_type": "slide"
    }
   },
   "source": [
    "### Weekly Lab Classes\n",
    "\n",
    "| lab class | handout    | upload to MOLE by | allocated mark |\n",
    "|:---------:|:----------:|:-----------------:|:--------------:|\n",
    "| 1         | Tue 26 Sep | Fri 06 Oct 15:00  | 20             |\n",
    "| 2         | Tue 03 Oct | Fri 13 Oct 15:00  | 60             |\n",
    "| 3         | Tue 10 Oct | Fri 20 Oct 15:00  | 40             |\n",
    "| 4         | Tue 17 Oct | Fri 27 Oct 15:00  | 40             |\n",
    "| 5         | Tue 24 Oct | Fri 03 Nov 15:00  | 70             |\n",
    "| 6         | Tue 31 Oct | Fri 10 Nov 15:00  | 50             |\n",
    "| 7         | Tue 07 Nov | Fri 17 Nov 15:00  | 40             |\n",
    "| 8         | Tue 14 Nov | Fri 24 Nov 15:00  | 30             |\n",
    "|           |            |                   |                |\n",
    "| total     |            |                   | 350            |\n",
    "\n",
    "(note) there are some materials to handout in weeks 9 and 10 as well, but they are not assessed, thus not needed to upload to MOLE."
   ]
  },
  {
   "cell_type": "markdown",
   "metadata": {
    "slideshow": {
     "slide_type": "slide"
    }
   },
   "source": [
    "#### Late Upload Rule for Lab Class Notes\n",
    "\n",
    "- For each day late, 5% will be deducted from your total grade\n",
    "- Saturday and Sunday are also counted as a day\n",
    "- lab class note will not be graded if it is upload more than a week late.\n",
    "\n",
    "Apart from the above, the late upload rule follows the standard procedure stated at:\n",
    "\n",
    "http://www.dcs.shef.ac.uk/intranet/teaching/public/assessment/latehandin.html"
   ]
  },
  {
   "cell_type": "markdown",
   "metadata": {
    "slideshow": {
     "slide_type": "slide"
    }
   },
   "source": [
    "### MCQs\n",
    "\n",
    "|           | week | date/time              | venue            | points |\n",
    "|:---------:|:----:|:----------------------:|:----------------:|:------:|\n",
    "| mock MCQs | 9    | Tue 21 Nov 11:15-12:00 | Alfred Denny A04 | 0      |\n",
    "| MCQs      | 10 or 11  | ???               | ???              | 15     |"
   ]
  },
  {
   "cell_type": "markdown",
   "metadata": {
    "slideshow": {
     "slide_type": "slide"
    }
   },
   "source": [
    "### MOLE\n",
    "\n",
    "- syllabus (this document)\n",
    "- zip file that contains some figures etc and week 1 materials\n",
    "\n",
    "The following notes are available weekly:\n",
    "- lecture slides (weeks 1-10)\n",
    "- lab classes (weeks 1-8) - to be assessed\n",
    "- lab notes (weeks 9-10)"
   ]
  },
  {
   "cell_type": "markdown",
   "metadata": {
    "slideshow": {
     "slide_type": "slide"
    }
   },
   "source": [
    "### Prerequisite\n",
    "\n",
    "- mathematical skills/knowledge\n",
    "  * probability and statistics\n",
    "  * linear algebra\n",
    "  * differential calculus (and maybe some integration)\n",
    "- good experience with some programming language\n",
    "  * ideally Python\n",
    "- some experience with latex may be beneficial"
   ]
  },
  {
   "cell_type": "markdown",
   "metadata": {
    "slideshow": {
     "slide_type": "slide"
    }
   },
   "source": [
    "### Anaconda Python and Jupyter Notebook\n",
    "\n",
    "If you are new with [Jupyter](http://jupyter.org/) Notebook, the first task is to install [Anaconda](https://www.continuum.io/downloads) Python on your machine."
   ]
  },
  {
   "cell_type": "markdown",
   "metadata": {
    "slideshow": {
     "slide_type": "slide"
    }
   },
   "source": [
    "### References\n",
    "\n",
    "- Rogers and Girolami (2011), A First Course in Machine Learning\n",
    "- Duda, Hart and Stork (2000), Pattern classification\n",
    "- Bishop (2007), Pattern recognition and machine learning\n",
    "- Barber (2012), Bayesian reasoning and machine learning"
   ]
  }
 ],
 "metadata": {
  "celltoolbar": "Slideshow",
  "kernelspec": {
   "display_name": "Python 3",
   "language": "python",
   "name": "python3"
  },
  "language_info": {
   "codemirror_mode": {
    "name": "ipython",
    "version": 3
   },
   "file_extension": ".py",
   "mimetype": "text/x-python",
   "name": "python",
   "nbconvert_exporter": "python",
   "pygments_lexer": "ipython3",
   "version": "3.5.2"
  }
 },
 "nbformat": 4,
 "nbformat_minor": 0
}
