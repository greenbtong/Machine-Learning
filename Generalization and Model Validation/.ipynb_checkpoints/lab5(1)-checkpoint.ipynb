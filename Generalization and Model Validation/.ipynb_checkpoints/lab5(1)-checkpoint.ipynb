{
 "cells": [
  {
   "cell_type": "markdown",
   "metadata": {},
   "source": [
    "### week 5\n",
    "\n",
    "# Generalisation and Model Validation\n",
    "\n",
    "### written by Neil Lawrence (2015), with some modification by YG (2017)"
   ]
  },
  {
   "cell_type": "markdown",
   "metadata": {},
   "source": [
    "If we had to summarise the objectives of machine learning in one word, a very good candidate for that word would be *generalization*. What is generalization? From a human perspective it might be summarised as the ability to take lessons learned in one domain and apply them to another domain. If we accept the definition given in the first session for machine learning,\n",
    "$$\n",
    "  \\text{data} + \\text{model} \\rightarrow \\text{prediction}\n",
    "$$\n",
    "then we see that without a model we can't generalise: we only have data. Data is fine for answering very specific questions, like \"Who won the Olympic Marathon in 2012?\", because we have that answer stored, however, we are not given the answer to many other questions.\n",
    "\n",
    "For example, Alan Turing was a formidable marathon runner, in 1946 he ran a time 2 hours 46 minutes (just under four minutes per kilometer, faster than I and most of the other [Endcliffe Park Run](http://www.parkrun.org.uk/sheffieldhallam/) runners can do 5 km). What is the probability he would have won an Olympics if one had been held in 1946?\n",
    "\n",
    "![Alan Turing, Times in the Times](http://www.turing.org.uk/turing/pi2/times2.gif)\n",
    "![Alan Turing running in 1946](http://www.turing.org.uk/turing/pi2/run.jpg)\n",
    "<center>\n",
    "*Alan Turing, in 1946 he was only 11 minutes slower than the winner of the 1948 games. Would he have won a hypothetical games held in 1946?*<br>\n",
    "Source: [Alan Turing Internet Scrapbook](http://www.turing.org.uk/scrapbook/run.html)\n",
    "</center>\n",
    "\n",
    "To answer this question we need to generalize, but before we formalize the concept of generalization let's introduce some formal representation of what it means to generalize in machine learning."
   ]
  },
  {
   "cell_type": "markdown",
   "metadata": {},
   "source": [
    "### Expected Loss\n",
    "\n",
    "Our objective function so far has been the negative log likelihood, which we have minimized (via the sum of squares error) to obtain our model. However, there is an alternative perspective on an objective function, that of a *loss function*. A loss function is a cost function associated with the penalty you might need to pay for a particular incorrect decision. One approach to machine learning involves specifying a loss function and considering how much a particular model is likely to cost us across its lifetime. We can represent this with an expectation. If our loss function is given as $L(y,x,\\mathbf{w})$ for a particular model that predicts $y$ given $x$ and $w$ then we are interested in minimizing the expected loss under the likely distribution of $y$ and $x$. To understand this formally we define the *true* distribution of the data samples, $y$, $x$. This is a very special distribution that we don't have access to very often, and to represent that we define it with a special letter '$\\mathbb{P}$', or $\\mathbb{P}(y,x)$. If we genuinely pay $L(y,x,\\mathbf{w})$ for every mistake we make, and the future test data is genuinely drawn from $\\mathbb{P}(y,x)$ then we can define our expected loss, or risk, to be,\n",
    "$$\n",
    "  R(\\mathbf{w}) = \\int L(y,x,w) \\mathbb{P}(y,x) \\text{d}y \\text{d}x\n",
    "$$\n",
    "Of course, in practice, this value can't be computed *but* it serves as a reminder of what it is we are aiming to minimize and under certain circumstances it can be approximated.\n",
    "\n",
    "### Sample Based Approximations\n",
    "\n",
    "A sample based approximation to an expectation involves replacing the true expectation with a sum over samples from the distribution.\n",
    "$$\n",
    "  \\int f(z) p(z) \\text{d}y \\text{d}z \\approx \\frac{1}{s} \\sum_{i=1}^s f(z_i)\n",
    "$$\n",
    "if $\\{z_i\\}_{i=1}^s$ are a set of $s$ independent and identically distributed samples from the distribution $p(z)$. This approximation becomes better for larger $s$, although the *rate of convergence* to the true integral will be very dependent on the distribution $p(z)$ *and* the function $f(z)$.\n",
    "\n",
    "That said, this means we can approximate our true integral with the sum,\n",
    "$$\n",
    "  R(\\mathbf{w}) \\approx \\frac{1}{n} \\sum_{i=1}^n L(y_i, x_i, w)\n",
    "$$\n",
    "if $y_i$ and $x_i$ are independent samples from the true distribution $\\mathbb{P}(y, x)$. Minimizing this sum directly is known as *empirical risk minimization*. The sum of squares error we have been using can be recovered for this case by considering a *squared loss*,\n",
    "$$\n",
    "  L(y, x, \\mathbf{w}) = (y - \\mathbf{w}^\\top \\boldsymbol{\\phi}(x))^2\n",
    "$$\n",
    "which gives an empirical risk of the form\n",
    "$$\n",
    "  R(\\mathbf{w}) \\approx \\frac{1}{n} \\sum_{i=1}^n (y_i - \\mathbf{w}^\\top \\boldsymbol{\\phi}(x_i))^2\n",
    "$$\n",
    "which up to the constant $\\frac{1}{n}$ is identical to the objective function we have been using so far.\n",
    "\n",
    "### Estimating Risk through Validation\n",
    "\n",
    "Unfortuantely, minimising the empirial risk only guarantees something about our performance on the training data. If we don't have enough data for the approximation to the risk to be valid, then we can end up performing significantly worse on test data. Fortunately, we can also estimate the risk for test data through estimating the risk for unseen data.\n",
    "\n",
    "The main trick here is to 'hold out' a portion of our data from training and use the models performance on that sub-set of the data as a proxy for the true risk. This data is known as 'validation' data. It contrasts with test data, because it's values are known at the model design time. However, in contrast to test date we don't use it to fit our model. This means that it doesn't exhibit the same bias that the empirical risk does when estimating the true risk.\n",
    "\n",
    "In this lab we will explore techniques for model selection that make use of validation data. Data that isn't seen by the model in the learning (or fitting) phase, but is used to *validate* our choice of model from amoungst the different designs we have selected.\n",
    "\n",
    "In machine learning, we are looking to minimise the value of our objective function $E$ with respect to its parameters $\\mathbf{w}$. We do this by considering our training data. We minimize the value of the objective function as it's observed at each training point. However we are really interested in how the model will perform on future data. For evaluating that we choose to *hold out* a portion of the data for evaluating the quality of the model.\n",
    "\n",
    "We will review the different methods of model selection on the Olympics marathon data. Firstly we import the olympics data:"
   ]
  },
  {
   "cell_type": "code",
   "execution_count": 531,
   "metadata": {
    "collapsed": false
   },
   "outputs": [],
   "source": [
    "import numpy as np\n",
    "import pods\n",
    "\n",
    "data = pods.datasets.olympic_marathon_men()\n",
    "x = data['X']\n",
    "y = data['Y']"
   ]
  },
  {
   "cell_type": "markdown",
   "metadata": {},
   "source": [
    "We can plot them to check that they've loaded in correctly."
   ]
  },
  {
   "cell_type": "code",
   "execution_count": 474,
   "metadata": {
    "collapsed": false
   },
   "outputs": [
    {
     "data": {
      "text/plain": [
       "[<matplotlib.lines.Line2D at 0xda298d0>]"
      ]
     },
     "execution_count": 474,
     "metadata": {},
     "output_type": "execute_result"
    },
    {
     "data": {
      "image/png": "[encoded data removed]",
      "text/plain": [
       "<matplotlib.figure.Figure at 0xd1997b8>"
      ]
     },
     "metadata": {},
     "output_type": "display_data"
    }
   ],
   "source": [
    "%matplotlib inline\n",
    "import pylab as plt\n",
    "plt.plot(x, y, 'rx')"
   ]
  },
  {
   "cell_type": "markdown",
   "metadata": {},
   "source": [
    "### Hold Out Validation\n",
    "\n",
    "The first thing we'll do is fit a standard linear model to the data. We recall from previous lectures and lab classes that to do this we need to solve the system\n",
    "$$\n",
    "  \\boldsymbol{\\Phi}^\\top \\boldsymbol{\\Phi} \\mathbf{w} = \\boldsymbol{\\Phi}^\\top \\mathbf{y}\n",
    "$$\n",
    "for $\\mathbf{w}$ and use the resulting vector to make predictions at the training points and test points,\n",
    "$$\n",
    "  \\mathbf{f} = \\boldsymbol{\\Phi} \\mathbf{w}\n",
    "$$\n",
    "The prediction function can be used to compute the objective function,\n",
    "$$\n",
    "  E(\\mathbf{w}) = \\sum_{i}^n (y_i - \\mathbf{w}^\\top \\phi(\\mathbf{x}_i))^2\n",
    "$$\n",
    "by substituting in the prediction in vector form we have\n",
    "$$\n",
    "  E(\\mathbf{w}) =  (\\mathbf{y} - \\mathbf{f})^\\top (\\mathbf{y} - \\mathbf{f})\n",
    "$$"
   ]
  },
  {
   "cell_type": "markdown",
   "metadata": {},
   "source": [
    "### Assignment Question 1\n",
    "\n",
    "In this question you will construct some flexible general code for fitting linear models.\n",
    "\n",
    "Create a python function that computes $\\boldsymbol{\\Phi}$ for the linear basis,\n",
    "$$\n",
    "  \\boldsymbol{\\Phi} = \\begin{bmatrix} \\mathbf{x} & \\mathbf{1} \\end{bmatrix}\n",
    "$$\n",
    "Name your function `linear`. `Phi` should be in the form of a *design matrix* and `x` should be in the form of a `numpy` two dimensional array with $n$ rows and 1 column.  Calls to your function should be in the following form:\n",
    "\n",
    "```python\n",
    "Phi = linear(x)\n",
    "```\n",
    "\n",
    "Create a python function that accepts, as arguments, a python function that defines a basis (like the one you've just created called `linear`) as well as a set of inputs and a vector of parameters. Your new python function should return a prediction. Name your function `prediction`. The return value `f` should be a two dimensional `numpy` array with $n$ rows and $1$ column, where $n$ is the number of data points. Calls to your function should be in the following form:\n",
    "\n",
    "```python\n",
    "f = prediction(w, x, linear)\n",
    "```\n",
    "\n",
    "Create a python function that computes the sum of squares objective function (or error function). It should accept your input data (or covariates) and target data (or response variables) and your parameter vector `w` as arguments. It should also accept a python function that represents the basis. Calls to your function should be in the following form:\n",
    "\n",
    "```python\n",
    "e = objective(w, x, y, linear)\n",
    "```\n",
    "\n",
    "Create a function that solves the linear system for the set of parameters that minimizes the sum of squares objective. It should accept input data, target data and a python function for the basis as the inputs. Calls to your function should be in the following form:\n",
    "\n",
    "```python\n",
    "w = fit(x, y, linear)\n",
    "```\n",
    "\n",
    "Fit a linear model to the olympic data using these functions and plot the resulting prediction between 1890 and 2020. Set the title of the plot to be the error of the fit on the *training data*.\n",
    "\n",
    "*10 marks*"
   ]
  },
  {
   "cell_type": "code",
   "execution_count": 475,
   "metadata": {
    "collapsed": false
   },
   "outputs": [
    {
     "name": "stdout",
     "output_type": "stream",
     "text": [
      "('Phi:', array([[  1.89600000e+03,   1.00000000e+00],\n",
      "       [  1.90000000e+03,   1.00000000e+00],\n",
      "       [  1.90400000e+03,   1.00000000e+00],\n",
      "       [  1.90800000e+03,   1.00000000e+00],\n",
      "       [  1.91200000e+03,   1.00000000e+00],\n",
      "       [  1.92000000e+03,   1.00000000e+00],\n",
      "       [  1.92400000e+03,   1.00000000e+00],\n",
      "       [  1.92800000e+03,   1.00000000e+00],\n",
      "       [  1.93200000e+03,   1.00000000e+00],\n",
      "       [  1.93600000e+03,   1.00000000e+00],\n",
      "       [  1.94800000e+03,   1.00000000e+00],\n",
      "       [  1.95200000e+03,   1.00000000e+00],\n",
      "       [  1.95600000e+03,   1.00000000e+00],\n",
      "       [  1.96000000e+03,   1.00000000e+00],\n",
      "       [  1.96400000e+03,   1.00000000e+00],\n",
      "       [  1.96800000e+03,   1.00000000e+00],\n",
      "       [  1.97200000e+03,   1.00000000e+00],\n",
      "       [  1.97600000e+03,   1.00000000e+00],\n",
      "       [  1.98000000e+03,   1.00000000e+00],\n",
      "       [  1.98400000e+03,   1.00000000e+00],\n",
      "       [  1.98800000e+03,   1.00000000e+00],\n",
      "       [  1.99200000e+03,   1.00000000e+00],\n",
      "       [  1.99600000e+03,   1.00000000e+00],\n",
      "       [  2.00000000e+03,   1.00000000e+00],\n",
      "       [  2.00400000e+03,   1.00000000e+00],\n",
      "       [  2.00800000e+03,   1.00000000e+00],\n",
      "       [  2.01200000e+03,   1.00000000e+00]]))\n",
      "('Fit:', array([[ -1.29806477e-02],\n",
      "       [  2.88952457e+01]]))\n",
      "('Prediction:', array([[ 4.28393761],\n",
      "       [ 4.23201502],\n",
      "       [ 4.18009243],\n",
      "       [ 4.12816984],\n",
      "       [ 4.07624725],\n",
      "       [ 3.97240206],\n",
      "       [ 3.92047947],\n",
      "       [ 3.86855688],\n",
      "       [ 3.81663429],\n",
      "       [ 3.7647117 ],\n",
      "       [ 3.60894393],\n",
      "       [ 3.55702134],\n",
      "       [ 3.50509874],\n",
      "       [ 3.45317615],\n",
      "       [ 3.40125356],\n",
      "       [ 3.34933097],\n",
      "       [ 3.29740838],\n",
      "       [ 3.24548579],\n",
      "       [ 3.1935632 ],\n",
      "       [ 3.14164061],\n",
      "       [ 3.08971802],\n",
      "       [ 3.03779543],\n",
      "       [ 2.98587283],\n",
      "       [ 2.93395024],\n",
      "       [ 2.88202765],\n",
      "       [ 2.83010506],\n",
      "       [ 2.77818247]]))\n",
      "('Error:', array([[ 1.97998377]]))\n"
     ]
    },
    {
     "data": {
      "text/plain": [
       "<matplotlib.text.Text at 0x11b98358>"
      ]
     },
     "execution_count": 475,
     "metadata": {},
     "output_type": "execute_result"
    },
    {
     "data": {
      "image/png": "[encoded data removed]",
      "text/plain": [
       "<matplotlib.figure.Figure at 0x113f40b8>"
      ]
     },
     "metadata": {},
     "output_type": "display_data"
    }
   ],
   "source": [
    "# Question 1 Answer Code\n",
    "\n",
    "# make the date set for x into a linear matrix\n",
    "def linear(x):\n",
    "    return np.hstack([x, np.ones((len(x), 1))])\n",
    "\n",
    "#  fit function \n",
    "def fit(x, y, base):\n",
    "    w = np.linalg.solve(np.dot(base(x).T, base(x)), np.dot(base(x).T, y))\n",
    "    return w\n",
    "\n",
    "# get prediction value 2-d n for rows and 1 column\n",
    "def prediction(w, x, base):\n",
    "    f = np.dot(base(x), w)\n",
    "    return f\n",
    "\n",
    "# objective function\n",
    "def objective(w, x, y, base):\n",
    "    e = np.dot((y - prediction(w, x, base)).T ,(y -prediction(w, x, base)))\n",
    "    return e\n",
    "\n",
    "# call each function\n",
    "Phi = linear(x)\n",
    "w = fit(x, y, linear)\n",
    "f = prediction(w, x, linear)\n",
    "e = objective(w, x, y, linear)\n",
    "\n",
    "# print values\n",
    "print(\"Phi:\", Phi)\n",
    "print(\"Fit:\", w)\n",
    "print(\"Prediction:\", f)\n",
    "print(\"Error:\", e)\n",
    "\n",
    "# plot data points and predicted line\n",
    "plt.plot(x, y, 'rx')\n",
    "plt.plot(x, f, 'b')\n",
    "plt.title(\"Error = %s \" %e)"
   ]
  },
  {
   "cell_type": "markdown",
   "metadata": {},
   "source": [
    "### Polynomial Fit: Training Error\n",
    "\n",
    "The next thing we'll do is consider a quadratic fit. We will compute the training error for the two fits."
   ]
  },
  {
   "cell_type": "markdown",
   "metadata": {},
   "source": [
    "### Assignment Question 2\n",
    "\n",
    "In this question we extend the code above to a non-linear basis (a quadratic function).\n",
    "\n",
    "Start by creating a python-function called `quadratic`. It should compute the quadratic basis.\n",
    "$$\n",
    "  \\boldsymbol{\\Phi} = \\begin{bmatrix} \\mathbf{1} & \\mathbf{x} & \\mathbf{x}^2 \\end{bmatrix}\n",
    "$$\n",
    "It should be called in the following form:\n",
    "\n",
    "```python\n",
    "Phi = quadratic(x)\n",
    "```\n",
    "Use this to compute the quadratic fit for the model, again plotting the result titled by the error.\n",
    "\n",
    "*5 marks*"
   ]
  },
  {
   "cell_type": "code",
   "execution_count": 476,
   "metadata": {
    "collapsed": false
   },
   "outputs": [
    {
     "name": "stdout",
     "output_type": "stream",
     "text": [
      "('Phi:', array([[  1.00000000e+00,   1.89600000e+03,   3.59481600e+06],\n",
      "       [  1.00000000e+00,   1.90000000e+03,   3.61000000e+06],\n",
      "       [  1.00000000e+00,   1.90400000e+03,   3.62521600e+06],\n",
      "       [  1.00000000e+00,   1.90800000e+03,   3.64046400e+06],\n",
      "       [  1.00000000e+00,   1.91200000e+03,   3.65574400e+06],\n",
      "       [  1.00000000e+00,   1.92000000e+03,   3.68640000e+06],\n",
      "       [  1.00000000e+00,   1.92400000e+03,   3.70177600e+06],\n",
      "       [  1.00000000e+00,   1.92800000e+03,   3.71718400e+06],\n",
      "       [  1.00000000e+00,   1.93200000e+03,   3.73262400e+06],\n",
      "       [  1.00000000e+00,   1.93600000e+03,   3.74809600e+06],\n",
      "       [  1.00000000e+00,   1.94800000e+03,   3.79470400e+06],\n",
      "       [  1.00000000e+00,   1.95200000e+03,   3.81030400e+06],\n",
      "       [  1.00000000e+00,   1.95600000e+03,   3.82593600e+06],\n",
      "       [  1.00000000e+00,   1.96000000e+03,   3.84160000e+06],\n",
      "       [  1.00000000e+00,   1.96400000e+03,   3.85729600e+06],\n",
      "       [  1.00000000e+00,   1.96800000e+03,   3.87302400e+06],\n",
      "       [  1.00000000e+00,   1.97200000e+03,   3.88878400e+06],\n",
      "       [  1.00000000e+00,   1.97600000e+03,   3.90457600e+06],\n",
      "       [  1.00000000e+00,   1.98000000e+03,   3.92040000e+06],\n",
      "       [  1.00000000e+00,   1.98400000e+03,   3.93625600e+06],\n",
      "       [  1.00000000e+00,   1.98800000e+03,   3.95214400e+06],\n",
      "       [  1.00000000e+00,   1.99200000e+03,   3.96806400e+06],\n",
      "       [  1.00000000e+00,   1.99600000e+03,   3.98401600e+06],\n",
      "       [  1.00000000e+00,   2.00000000e+03,   4.00000000e+06],\n",
      "       [  1.00000000e+00,   2.00400000e+03,   4.01601600e+06],\n",
      "       [  1.00000000e+00,   2.00800000e+03,   4.03206400e+06],\n",
      "       [  1.00000000e+00,   2.01200000e+03,   4.04814400e+06]]))\n",
      "('Fit:', array([[  6.43641953e+02],\n",
      "       [ -6.42502987e-01],\n",
      "       [  1.61109703e-04]]))\n",
      "('Prediction:', array([[ 4.61602821],\n",
      "       [ 4.49230599],\n",
      "       [ 4.37373929],\n",
      "       [ 4.26032809],\n",
      "       [ 4.15207241],\n",
      "       [ 3.95102757],\n",
      "       [ 3.85823842],\n",
      "       [ 3.77060478],\n",
      "       [ 3.68812665],\n",
      "       [ 3.61080403],\n",
      "       [ 3.40976923],\n",
      "       [ 3.35306866],\n",
      "       [ 3.30152359],\n",
      "       [ 3.25513403],\n",
      "       [ 3.21389998],\n",
      "       [ 3.17782145],\n",
      "       [ 3.14689842],\n",
      "       [ 3.12113091],\n",
      "       [ 3.1005189 ],\n",
      "       [ 3.08506241],\n",
      "       [ 3.07476142],\n",
      "       [ 3.06961595],\n",
      "       [ 3.06962599],\n",
      "       [ 3.07479154],\n",
      "       [ 3.08511259],\n",
      "       [ 3.10058916],\n",
      "       [ 3.12122124]]))\n",
      "('Error:', array([[ 1.1505154]]))\n"
     ]
    },
    {
     "data": {
      "text/plain": [
       "<matplotlib.text.Text at 0x10e24a58>"
      ]
     },
     "execution_count": 476,
     "metadata": {},
     "output_type": "execute_result"
    },
    {
     "data": {
      "image/png": "[encoded data removed]",
      "text/plain": [
       "<matplotlib.figure.Figure at 0x11326978>"
      ]
     },
     "metadata": {},
     "output_type": "display_data"
    }
   ],
   "source": [
    "# Question 2 Answer Code\n",
    "\n",
    "# quadratic function\n",
    "def quadratic(x):\n",
    "    return np.hstack([np.ones((len(x), 1)), x, x**2])\n",
    "\n",
    "# call function\n",
    "Phi = quadratic(x)\n",
    "w = fit(x, y, quadratic)\n",
    "f = prediction(w, x, quadratic)\n",
    "e = objective(w, x, y, quadratic)\n",
    "\n",
    "# print values\n",
    "print(\"Phi:\", Phi)\n",
    "print(\"Fit:\", w)\n",
    "print(\"Prediction:\", f)\n",
    "print(\"Error:\", e)\n",
    "\n",
    "# plot data points and predicted line\n",
    "plt.plot(x, y, 'rx')\n",
    "plt.plot(x, f, 'b')\n",
    "plt.title(\"Error = %s \" %e)"
   ]
  },
  {
   "cell_type": "markdown",
   "metadata": {},
   "source": [
    "### Hold Out Data\n",
    "\n",
    "You have a conclusion as to which model fits best under the training error, but how do the two models perform in terms of validation? In this section we consider *hold out* validation. In hold out validation we remove a portion of the training data for *validating* the model on. The remaining data is used for fitting the model (training). Because this is a time series prediction, it makes sense for us to hold out data at the end of the time series. This means that we are validating on future predictions. We will hold out data from after 1980 and fit the model to the data before 1980."
   ]
  },
  {
   "cell_type": "code",
   "execution_count": 477,
   "metadata": {
    "collapsed": false
   },
   "outputs": [],
   "source": [
    "# select indices of data to 'hold out'\n",
    "indices_hold_out = np.flatnonzero(x>1980)\n",
    "\n",
    "# Create a training set\n",
    "x_train = np.delete(x, indices_hold_out, axis=0)\n",
    "y_train = np.delete(y, indices_hold_out, axis=0)\n",
    "\n",
    "# Create a hold out set\n",
    "x_valid = np.take(x, indices_hold_out, axis=0)\n",
    "y_valid = np.take(y, indices_hold_out, axis=0)"
   ]
  },
  {
   "cell_type": "markdown",
   "metadata": {},
   "source": [
    "### Assignment Question 3\n",
    "\n",
    "For both the linear and quadratic models, fit the model to the data up until 1980 and then compute the error on the held out data (from 1980 onwards). Which model performs better on the validation data?\n",
    "\n",
    "*5 marks*"
   ]
  },
  {
   "cell_type": "code",
   "execution_count": 479,
   "metadata": {
    "collapsed": false
   },
   "outputs": [
    {
     "data": {
      "image/png": "[encoded data removed]",
      "text/plain": [
       "<matplotlib.figure.Figure at 0x11f1d438>"
      ]
     },
     "metadata": {},
     "output_type": "display_data"
    },
    {
     "name": "stdout",
     "output_type": "stream",
     "text": [
      "Quadratic performs better on the validation data\n"
     ]
    }
   ],
   "source": [
    "# Question 3 Answer Code\n",
    "\n",
    "# linear call\n",
    "w = fit(x_train, y_train, linear)\n",
    "f1 = prediction(w, x_train, linear)\n",
    "e1 = objective(w, x_valid, y_valid, linear)\n",
    "\n",
    "# Quadratic call\n",
    "w = fit(x_train, y_train, quadratic)\n",
    "f2 = prediction(w, x_train, quadratic)\n",
    "e2 = objective(w, x_valid, y_valid, quadratic)\n",
    "\n",
    "# plot data points and predicted line for linear\n",
    "plt.plot(x_train, y_train, 'rx')\n",
    "plt.plot(x_train, f1, 'g')\n",
    "\n",
    "# plot data points and predicted line for quadratic\n",
    "plt.plot(x_train, f2, 'b')\n",
    "\n",
    "plt.title(\"Error Linear = %s, Quadratic = %s\" %(e1,e2))\n",
    "plt.show()\n",
    "print(\"Quadratic performs better on the validation data\")"
   ]
  },
  {
   "cell_type": "markdown",
   "metadata": {},
   "source": [
    "### Richer Basis Set\n",
    "\n",
    "Now we have an approach for deciding which model to retain, we can consider the entire family of polynomial bases, with arbitrary degrees."
   ]
  },
  {
   "cell_type": "markdown",
   "metadata": {},
   "source": [
    "### Assignment Question 4\n",
    "\n",
    "Now we are going to build a more sophisticated form of basis function, one that can accept arguments to its inputs (similar to those we used in the last week). Here we will start with a polynomial basis:\n",
    "\n",
    "```python\n",
    "def polynomial(x, degree, loc, scale):\n",
    "    degrees = np.arange(degree+1)\n",
    "    return ((x-loc)/scale)**degrees\n",
    "```\n",
    "\n",
    "The basis as we've defined it has three arguments as well as the input. The degree of the polynomial, the scale of the polynomial and the offset. These arguments need to be passed to the basis functions whenever they are called. Modify your code to pass these additional arguments to the python function for creating the basis. Do this for each of your functions `predict`, `fit` and `objective`. You will find `*args` (or `**kwargs`) useful.\n",
    "\n",
    "Write code that tries to fit different models to the data with polynomial basis. Use a maximum degree for your basis from 0 to 17. For each polynomial store the *hold out validation error* and the *training error*. When you have finished the computation plot the hold out error for your models and the training error for your p. When computing your polynomial basis use `offset=1956.` and `scale=120.` to ensure that the data is mapped (roughly) to the -1, 1 range.\n",
    "\n",
    "Which polynomial has the minimum training error? Which polynomial has the minimum validation error?\n",
    "\n",
    "*20 marks*"
   ]
  },
  {
   "cell_type": "code",
   "execution_count": 480,
   "metadata": {
    "collapsed": false,
    "scrolled": true
   },
   "outputs": [
    {
     "data": {
      "image/png": "[encoded data removed]",
      "text/plain": [
       "<matplotlib.figure.Figure at 0x114205c0>"
      ]
     },
     "metadata": {},
     "output_type": "display_data"
    },
    {
     "name": "stdout",
     "output_type": "stream",
     "text": [
      "minimum train error is [[ 0.03151386]] at degree 17\n",
      "minimum valid error is [[ 0.33750582]] at degree 2\n"
     ]
    }
   ],
   "source": [
    "# Question 4 Answer Code\n",
    "import pods\n",
    "\n",
    "# new polynomial function\n",
    "def polynomial(x, degree, loc, scale):\n",
    "    degrees = np.arange(degree+1)\n",
    "    return ((x - loc)/scale)**degrees\n",
    "\n",
    "#  fit function \n",
    "def fit(x, y, basis={'function':polynomial, 'degree':1, 'loc':1956, 'scale':120}):\n",
    "    Phi = basis['function'](x, basis['degree'], basis['loc'], basis['scale'])  \n",
    "    w = np.linalg.solve(np.dot(Phi.T, Phi), np.dot(Phi.T, y))\n",
    "    return w\n",
    "\n",
    "# prediction function\n",
    "def prediction(w, x, basis={'function':polynomial, 'degree':1, 'loc':1956, 'scale':120}):\n",
    "    Phi = basis['function'](x, basis['degree'], basis['loc'], basis['scale'])    \n",
    "    return np.dot(Phi,w)\n",
    "\n",
    "# objective function\n",
    "def objective(w, x, y, basis={'function':polynomial, 'degree':1, 'loc':1956, 'scale':120}):\n",
    "    Phi = basis['function'](x, basis['degree'], basis['loc'], basis['scale']) \n",
    "    f = np.dot(Phi,w)\n",
    "    return np.dot((y - f).T ,(y -f))\n",
    "\n",
    "# initialize\n",
    "train_error = []\n",
    "valid_error = []\n",
    "\n",
    "# change degrees\n",
    "for i in range(18):\n",
    "    \n",
    "    # basis value\n",
    "    degree = i\n",
    "    basis={'function':polynomial, 'degree':degree, 'loc':1956, 'scale':120}\n",
    "    \n",
    "    # train call\n",
    "    w1 = fit(x_train, y_train, basis) \n",
    "    e1 = objective(w1, x_train, y_train, basis)\n",
    "    train_error.append(e1)\n",
    "    plt.plot(i, e1, 'rx')\n",
    "    \n",
    "    # valid call\n",
    "    w2 = fit(x_train, y_train, basis)\n",
    "    e2 = objective(w2, x_valid, y_valid, basis)\n",
    "    valid_error.append(e2)\n",
    "    plt.plot(i, e2, 'bx')\n",
    "    \n",
    "plt.show()\n",
    "    \n",
    "# min error\n",
    "print(\"minimum train error is %s at degree %s\" %(min(train_error), train_error.index(min(train_error))))\n",
    "print(\"minimum valid error is %s at degree %s\" %(min(valid_error), valid_error.index(min(valid_error)))) "
   ]
  },
  {
   "cell_type": "markdown",
   "metadata": {},
   "source": [
    "### Leave One Out Validation\n",
    "\n",
    "Hold out validation uses a portion of the data to hold out and a portion of the data to train on. There is always a compromise between how much data to hold out and how much data to train on. The more data you hold out, the better the estimate of your performance at 'run-time' (when the model is used to make predictions in real applications). However, by holding out more data, you leave less data to train on, so you have a better validation, but a poorer quality model fit than you could have had if you'd used all the data for training.\n",
    "\n",
    "Leave one out cross validation leaves as much data in the training phase as possible: you only take *one point* out for your validation set. However, if you do this for hold-out validation, then the quality of your validation error is very poor because you are testing the model quality on one point only. In *cross validation* the approach is to improve this estimate by doing more than one model fit. In *leave one out cross validation* you fit $n$ different models, where $n$ is the number of your data. For each model fit you take out one data point, and train the model on the remaining $n-1$ data points. You validate the model on the data point you've held out, but you do this $n$ times, once for each different model. You then take the *average* of all the $n$ badly estimated hold out validation errors. The average of this estimate is a good estimate of performance of those models on the test data."
   ]
  },
  {
   "cell_type": "markdown",
   "metadata": {},
   "source": [
    "### Assignment Question 5\n",
    "\n",
    "Write code that computes the *leave one out* validation error for the olympic data and the polynomial basis. Use the functions you have created above: `objective`, `fit`, `polynomial`. Compute the *leave-one-out* cross validation error for basis functions containing a maximum degree from 0 to 17.\n",
    "\n",
    "*15 marks*"
   ]
  },
  {
   "cell_type": "code",
   "execution_count": 554,
   "metadata": {
    "collapsed": false
   },
   "outputs": [
    {
     "name": "stdout",
     "output_type": "stream",
     "text": [
      "Degree: 0 , Error: 0.026600688066\n",
      "Degree: 1 , Error: 0.0128790048976\n",
      "Degree: 2 , Error: 0.00393687836806\n",
      "Degree: 3 , Error: 0.00131174503088\n",
      "Degree: 4 , Error: 0.00215906055788\n",
      "Degree: 5 , Error: 0.00283815558\n",
      "Degree: 6 , Error: 0.00187587896887\n",
      "Degree: 7 , Error: 0.111102662957\n",
      "Degree: 8 , Error: 0.19087110083\n",
      "Degree: 9 , Error: 0.0485010463937\n",
      "Degree: 10 , Error: 0.405396614472\n",
      "Degree: 11 , Error: 0.0723502072164\n",
      "Degree: 12 , Error: 0.126112299749\n",
      "Degree: 13 , Error: 0.252106554674\n",
      "Degree: 14 , Error: 0.327190700617\n",
      "Degree: 15 , Error: 0.429915542594\n",
      "Degree: 16 , Error: 0.376998193795\n",
      "Degree: 17 , Error: 458.984329643\n"
     ]
    },
    {
     "data": {
      "image/png": "[encoded data removed]",
      "text/plain": [
       "<matplotlib.figure.Figure at 0x12dceba8>"
      ]
     },
     "metadata": {},
     "output_type": "display_data"
    },
    {
     "name": "stdout",
     "output_type": "stream",
     "text": [
      "minimum error is 0.00131174503088 at degree 3\n"
     ]
    }
   ],
   "source": [
    "# Question 5 Answer Code\n",
    "\n",
    "error = []\n",
    "\n",
    "# change degrees\n",
    "for i in range(18):\n",
    "    temp_error = []\n",
    "    for j in range(len(x)):\n",
    "        \n",
    "        # get rid of one\n",
    "        temp_x = x\n",
    "        temp_y = y\n",
    "        temp_x = np.delete(temp_x, j, 0)\n",
    "        temp_y = np.delete(temp_y, j, 0)\n",
    "    \n",
    "        # basis value\n",
    "        degree = i\n",
    "        basis={'function':polynomial, 'degree':degree, 'loc':1956, 'scale':120}\n",
    "    \n",
    "        # call functions\n",
    "        w = fit(temp_x, temp_y, basis) \n",
    "        e = objective(w, x[j], y[j], basis)\n",
    "        temp_error.append(e)\n",
    "        \n",
    "    error.append(np.mean(temp_error))\n",
    "    print(\"Degree: %s , Error: %s\" %(i, np.mean(temp_error)))\n",
    "    plt.plot(i, np.mean(temp_error), 'bx')\n",
    "    \n",
    "plt.show()\n",
    "print(\"minimum error is %s at degree %s\" %(min(error), error.index(min(error)))) "
   ]
  },
  {
   "cell_type": "markdown",
   "metadata": {},
   "source": [
    "### $k$-fold Cross Validation\n",
    "\n",
    "Leave one out cross validation produces a very good estimate of the performance at test time, and is particularly useful if you don't have a lot of data. In these cases you need to make as much use of your data for model fitting as possible, and having a large hold out data set (to validate model performance) can have a significant effect on the size of the data set you have to fit your model, and correspondingly, the complexity of the model you can fit. However, leave one out cross validation involves fitting $n$ models, where $n$ is your number of training data. For the olympics example, this is only 27 model fits, but in practice many data sets consist thousands or millions of data points, and fitting many millions of models for estimating validation error isn't really practical. One option is to return to *hold out* validation, but another approach is to perform $k$-fold cross validation.\n",
    "\n",
    "In $k$-fold cross validation you split your data into $k$ parts. Then you use $k-1$ of those parts for training, and hold out one part for validation. Just like we did for the hold out validation above. In *cross* validation, however, you repeat this process. You swap the part of the data you just used for validation back in to the training set and select another part for validation. You then fit the model to the new training data and validate on the portion of data you've just extracted. Each split of training/validation data is called a *fold* and since you do this process $k$ times, the procedure is known as $k$-fold cross validation. The term *cross* refers to the fact that you cross over your validation portion back into the training data every time you perform a fold."
   ]
  },
  {
   "cell_type": "markdown",
   "metadata": {},
   "source": [
    "### Assignment Question 6\n",
    "\n",
    "Perform $k$-fold cross validation on the olympic data with your polynomial basis. Use $k$ set to 5 (e.g. five fold cross validation).\n",
    "\n",
    "Do the different forms of validation select different models? Does five fold cross validation always select the same model?\n",
    "\n",
    "*Note*: The data doesn't divide into 5 equal size partitions for the five fold cross validation error. Don't worry about this too much. Two of the partitions will have an extra data point. You might find `np.random.permutation?` useful.\n",
    "\n",
    "*15 marks*"
   ]
  },
  {
   "cell_type": "code",
   "execution_count": 556,
   "metadata": {
    "collapsed": false
   },
   "outputs": [
    {
     "name": "stdout",
     "output_type": "stream",
     "text": [
      "Degree: 0 , Error: 0.216751292287\n",
      "Degree: 1 , Error: 0.0687737299298\n",
      "Degree: 2 , Error: 0.0180820288216\n",
      "Degree: 3 , Error: 0.00650158764458\n",
      "Degree: 4 , Error: 0.00539899766808\n",
      "Degree: 5 , Error: 0.0260359992879\n",
      "Degree: 6 , Error: 0.0615518873308\n",
      "Degree: 7 , Error: 1.42676850757\n",
      "Degree: 8 , Error: 6899.93495243\n",
      "Degree: 9 , Error: 4360228.34209\n",
      "Degree: 10 , Error: 3221579.97241\n",
      "Degree: 11 , Error: 17548.7324929\n",
      "Degree: 12 , Error: 244944.994255\n",
      "Degree: 13 , Error: 7766.2132446\n",
      "Degree: 14 , Error: 119737.26165\n",
      "Degree: 15 , Error: 8761.27492985\n",
      "Degree: 16 , Error: 777.291305282\n",
      "Degree: 17 , Error: 4637.80967384\n"
     ]
    },
    {
     "data": {
      "image/png": "[encoded data removed]",
      "text/plain": [
       "<matplotlib.figure.Figure at 0x10d4a0b8>"
      ]
     },
     "metadata": {},
     "output_type": "display_data"
    },
    {
     "name": "stdout",
     "output_type": "stream",
     "text": [
      "minimum error: 0.00539899766808 at degree 4\n"
     ]
    }
   ],
   "source": [
    "# Question 6 Answer Code\n",
    "\n",
    "error = []\n",
    "s_index = [0,0,0,0]\n",
    "\n",
    "# change degrees\n",
    "for i in range(18):\n",
    "    temp_error = []\n",
    "    temp_x = x\n",
    "    temp_y = y\n",
    "    \n",
    "    # get split index\n",
    "    temp_random = np.random.permutation(27)\n",
    "    \n",
    "    # split list\n",
    "    for m in range(27):\n",
    "        temp_x[i] = x[temp_random[i]]\n",
    "        temp_y[i] = y[temp_random[i]]\n",
    "    temp_x = np.array_split(temp_x, 5)\n",
    "    temp_y = np.array_split(temp_y, 5)\n",
    "    \n",
    "    for j in range(5):\n",
    "        xt = []\n",
    "        yt = []\n",
    "        xv = []\n",
    "        yv = []\n",
    "        sp = []\n",
    "        \n",
    "        # determine what is train and valid data\n",
    "        for p in range(5):\n",
    "            if p != j:\n",
    "                sp.append(p)                \n",
    "            else:\n",
    "                # get valid data\n",
    "                xv = np.array(temp_x[p])\n",
    "                yv = np.array(temp_y[p])\n",
    "                \n",
    "        # get train data\n",
    "        xt = np.concatenate(( temp_x[sp[0]], temp_x[sp[1]], temp_x[sp[2]], temp_x[sp[3]]), 0)\n",
    "        yt = np.concatenate(( temp_y[sp[0]], temp_y[sp[1]], temp_y[sp[2]], temp_y[sp[3]]), 0)\n",
    "        \n",
    "        # basis value\n",
    "        degree = i\n",
    "        basis={'function':polynomial, 'degree':degree, 'loc':1956, 'scale':120}\n",
    "    \n",
    "        # call functions\n",
    "        w = fit(xt, yt, basis) \n",
    "        e = objective(w, xv, yv, basis)\n",
    "        temp_error.append(e)\n",
    "        \n",
    "    error.append(np.mean(temp_error))\n",
    "    print(\"Degree: %s , Error: %s\" %(i, np.mean(temp_error)))\n",
    "    plt.plot(i, np.mean(temp_error), 'bx')\n",
    "\n",
    "plt.show()\n",
    "print(\"minimum error: %s at degree %s\" %(min(error), error.index(min(error)))) "
   ]
  },
  {
   "cell_type": "code",
   "execution_count": null,
   "metadata": {
    "collapsed": true
   },
   "outputs": [],
   "source": []
  }
 ],
 "metadata": {
  "anaconda-cloud": {},
  "kernelspec": {
   "display_name": "Python [Root]",
   "language": "python",
   "name": "Python [Root]"
  },
  "language_info": {
   "codemirror_mode": {
    "name": "ipython",
    "version": 2
   },
   "file_extension": ".py",
   "mimetype": "text/x-python",
   "name": "python",
   "nbconvert_exporter": "python",
   "pygments_lexer": "ipython2",
   "version": "2.7.12"
  }
 },
 "nbformat": 4,
 "nbformat_minor": 0
}
